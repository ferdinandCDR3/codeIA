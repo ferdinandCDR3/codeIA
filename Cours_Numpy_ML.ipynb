{
 "cells": [
  {
   "cell_type": "code",
   "execution_count": 2,
   "metadata": {
    "colab": {
     "base_uri": "https://localhost:8080/"
    },
    "id": "Ke_xwRS5OjwQ",
    "outputId": "c96e21d5-088d-46a6-c419-2ad2a1ba43de"
   },
   "outputs": [
    {
     "name": "stdout",
     "output_type": "stream",
     "text": [
      "keras                                2.6.0               /home/cdr/Documents/anaconda3/lib/python3.6/site-packages pip\n",
      "keras-nightly                        2.7.0.dev2021070900 /home/cdr/Documents/anaconda3/lib/python3.6/site-packages pip\n",
      "\u001b[33mWARNING: You are using pip version 21.3; however, version 21.3.1 is available.\n",
      "You should consider upgrading via the '/home/cdr/Documents/anaconda3/bin/python3.6 -m pip install --upgrade pip' command.\u001b[0m\n"
     ]
    }
   ],
   "source": [
    "!pip list -v | grep keras"
   ]
  },
  {
   "cell_type": "code",
   "execution_count": 1,
   "metadata": {
    "colab": {
     "base_uri": "https://localhost:8080/"
    },
    "id": "4a8JtTifgsKu",
    "outputId": "e2294764-7c5e-4184-c090-0ce476ad2858"
   },
   "outputs": [
    {
     "name": "stdout",
     "output_type": "stream",
     "text": [
      "[1 2 3]\n"
     ]
    }
   ],
   "source": [
    "import numpy as np\n",
    "a = np.array([1,2,3])\n",
    "print(a)"
   ]
  },
  {
   "cell_type": "code",
   "execution_count": 3,
   "metadata": {
    "colab": {
     "base_uri": "https://localhost:8080/"
    },
    "id": "-3UInIeJgyKr",
    "outputId": "432b71c9-fefb-412c-f424-43fa04f7670f"
   },
   "outputs": [
    {
     "name": "stdout",
     "output_type": "stream",
     "text": [
      "[[1 2 3]\n",
      " [4 5 6]]\n"
     ]
    }
   ],
   "source": [
    "a = np.array([[1,2,3], [4,5,6]])\n",
    "print(a)"
   ]
  },
  {
   "cell_type": "code",
   "execution_count": 4,
   "metadata": {
    "colab": {
     "base_uri": "https://localhost:8080/"
    },
    "id": "5XXROVoog5If",
    "outputId": "9b47433a-4246-4a3e-fe1f-d05ba9c0d7a4"
   },
   "outputs": [
    {
     "data": {
      "text/plain": [
       "array([[0., 0., 0., 0.],\n",
       "       [0., 0., 0., 0.],\n",
       "       [0., 0., 0., 0.]])"
      ]
     },
     "execution_count": 4,
     "metadata": {},
     "output_type": "execute_result"
    }
   ],
   "source": [
    "np.zeros((3,4))"
   ]
  },
  {
   "cell_type": "code",
   "execution_count": 4,
   "metadata": {
    "colab": {
     "base_uri": "https://localhost:8080/"
    },
    "id": "jnh0MVArhwlP",
    "outputId": "eb556a40-0c10-4730-c6df-b1818282d5d2"
   },
   "outputs": [
    {
     "data": {
      "text/plain": [
       "array([[1., 1., 1., 1.],\n",
       "       [1., 1., 1., 1.],\n",
       "       [1., 1., 1., 1.]])"
      ]
     },
     "execution_count": 4,
     "metadata": {},
     "output_type": "execute_result"
    }
   ],
   "source": [
    "np.ones((3,4))"
   ]
  },
  {
   "cell_type": "code",
   "execution_count": 6,
   "metadata": {
    "colab": {
     "base_uri": "https://localhost:8080/"
    },
    "id": "cA6cHgcXh8yl",
    "outputId": "4153ed0a-fa8c-486a-8c6c-95bc63d7a4f5"
   },
   "outputs": [
    {
     "name": "stdout",
     "output_type": "stream",
     "text": [
      "[[1. 0. 0. 0.]\n",
      " [0. 1. 0. 0.]\n",
      " [0. 0. 1. 0.]\n",
      " [0. 0. 0. 1.]]\n"
     ]
    }
   ],
   "source": [
    "a = np.eye(4)\n",
    "print(a)"
   ]
  },
  {
   "cell_type": "code",
   "execution_count": null,
   "metadata": {
    "colab": {
     "base_uri": "https://localhost:8080/"
    },
    "id": "_viAIrgviISA",
    "outputId": "c0972535-95af-4756-d5e1-61c14473b088"
   },
   "outputs": [
    {
     "data": {
      "text/plain": [
       "3"
      ]
     },
     "execution_count": 16,
     "metadata": {},
     "output_type": "execute_result"
    }
   ],
   "source": [
    "a = np.array([[[1,2,3], [4,5,6], [7,8,9]]])\n",
    "a.ndim"
   ]
  },
  {
   "cell_type": "code",
   "execution_count": null,
   "metadata": {
    "colab": {
     "base_uri": "https://localhost:8080/"
    },
    "id": "EI0JAOY7itbh",
    "outputId": "25b6dbf4-37db-457a-bbdd-cea904556c0a"
   },
   "outputs": [
    {
     "data": {
      "text/plain": [
       "(2, 3)"
      ]
     },
     "execution_count": 17,
     "metadata": {},
     "output_type": "execute_result"
    }
   ],
   "source": [
    "a = np.array([[1,2,3], [4,5,6]])\n",
    "a.shape"
   ]
  },
  {
   "cell_type": "code",
   "execution_count": null,
   "metadata": {
    "colab": {
     "base_uri": "https://localhost:8080/"
    },
    "id": "oA8UywQNi8hK",
    "outputId": "0c23804f-6263-40ed-d1d5-741d33047c88"
   },
   "outputs": [
    {
     "data": {
      "text/plain": [
       "(1, 3, 3)"
      ]
     },
     "execution_count": 18,
     "metadata": {},
     "output_type": "execute_result"
    }
   ],
   "source": [
    "a = np.array([[[1,2,3], [4,5,6], [7,8,9]]])\n",
    "a.shape"
   ]
  },
  {
   "cell_type": "code",
   "execution_count": null,
   "metadata": {
    "colab": {
     "base_uri": "https://localhost:8080/"
    },
    "id": "nMuqpAWojFci",
    "outputId": "12ce8cf8-012c-4c05-c1f7-7b18b620be47"
   },
   "outputs": [
    {
     "data": {
      "text/plain": [
       "dtype('int64')"
      ]
     },
     "execution_count": 19,
     "metadata": {},
     "output_type": "execute_result"
    }
   ],
   "source": [
    "a = np.array([[[1,2,3], [4,5,6], [7,8,9]]])\n",
    "a.dtype"
   ]
  },
  {
   "cell_type": "code",
   "execution_count": 7,
   "metadata": {
    "colab": {
     "base_uri": "https://localhost:8080/"
    },
    "id": "96B_nYj5jNFZ",
    "outputId": "5ac743ea-16a2-4982-83b8-8becfa0f7284"
   },
   "outputs": [
    {
     "name": "stdout",
     "output_type": "stream",
     "text": [
      "[1 3 5 7 9]\n"
     ]
    }
   ],
   "source": [
    "a = np.arange(1,10,2)\n",
    "print(a)"
   ]
  },
  {
   "cell_type": "code",
   "execution_count": 5,
   "metadata": {
    "colab": {
     "base_uri": "https://localhost:8080/"
    },
    "id": "mzYB9GK0jSJu",
    "outputId": "c68edf1e-99bf-46e4-c751-79a27602d191"
   },
   "outputs": [
    {
     "name": "stdout",
     "output_type": "stream",
     "text": [
      "l'addition des deux tableaux:\n",
      " [[ 8 10 12]\n",
      " [14 16 18]]\n",
      "la soustraction de b de a:\n",
      "  [[6 6 6]\n",
      " [6 6 6]]\n",
      "la multiplication des deux tableaux:\n",
      "  [[ 7 16 27]\n",
      " [40 55 72]]\n",
      "la division de b par a:\n",
      " [[7.  4.  3. ]\n",
      " [2.5 2.2 2. ]]\n"
     ]
    }
   ],
   "source": [
    "a = np.array([[1,2,3],[4,5,6]])\n",
    "b = np.array([[7,8,9],[10,11,12]])\n",
    "print(\"l'addition des deux tableaux:\\n\", np.add(a,b))\n",
    "print(\"la soustraction de b de a:\\n \", np.subtract(b,a))\n",
    "print(\"la multiplication des deux tableaux:\\n \", np.multiply(a,b))\n",
    "print(\"la division de b par a:\\n\" ,np.divide(b,a))"
   ]
  },
  {
   "cell_type": "code",
   "execution_count": null,
   "metadata": {
    "colab": {
     "base_uri": "https://localhost:8080/"
    },
    "id": "wnaPrhIXjsmV",
    "outputId": "f0bb59b2-147e-4c70-b3dc-08f8c9843029"
   },
   "outputs": [
    {
     "data": {
      "text/plain": [
       "32"
      ]
     },
     "execution_count": 22,
     "metadata": {},
     "output_type": "execute_result"
    }
   ],
   "source": [
    "a = np.array([1,2,3])\n",
    "b = np.array([4,5,6])\n",
    "a.dot(b)"
   ]
  },
  {
   "cell_type": "code",
   "execution_count": 8,
   "metadata": {
    "colab": {
     "base_uri": "https://localhost:8080/"
    },
    "id": "ufsZ_m6Bj3rT",
    "outputId": "141b5188-ce26-4715-b343-3efabae2f9de"
   },
   "outputs": [
    {
     "name": "stdout",
     "output_type": "stream",
     "text": [
      "[[  2.71828183   7.3890561   20.08553692]\n",
      " [ 54.59815003 148.4131591  403.42879349]]\n",
      "[[ 0.84147098  0.90929743  0.14112001]\n",
      " [-0.7568025  -0.95892427 -0.2794155 ]]\n",
      "[[ 0.54030231 -0.41614684 -0.9899925 ]\n",
      " [-0.65364362  0.28366219  0.96017029]]\n",
      "[[ 1.55740772 -2.18503986 -0.14254654]\n",
      " [ 1.15782128 -3.38051501 -0.29100619]]\n",
      "[[1.         1.41421356 1.73205081]\n",
      " [2.         2.23606798 2.44948974]]\n"
     ]
    }
   ],
   "source": [
    "a = np.array([[1,2,3],[4,5,6]])\n",
    "#exponentielle\n",
    "print(np.exp(a))\n",
    "#sinus\n",
    "print(np.sin(a))\n",
    "#cosinus\n",
    "print(np.cos(a))\n",
    "#tangente\n",
    "print(np.tan(a))\n",
    "#racine carée\n",
    "print(np.sqrt(a))"
   ]
  },
  {
   "cell_type": "code",
   "execution_count": 10,
   "metadata": {
    "colab": {
     "base_uri": "https://localhost:8080/"
    },
    "id": "z6yMeoIGkAdK",
    "outputId": "d1e5d840-fbe7-4691-b8b7-11bcf064fa48"
   },
   "outputs": [
    {
     "data": {
      "text/plain": [
       "array([False, False, False])"
      ]
     },
     "execution_count": 10,
     "metadata": {},
     "output_type": "execute_result"
    }
   ],
   "source": [
    "a = np.array([1,2,3])\n",
    "b = np.array([4,5,6])\n",
    "a == b"
   ]
  },
  {
   "cell_type": "code",
   "execution_count": null,
   "metadata": {
    "colab": {
     "base_uri": "https://localhost:8080/"
    },
    "id": "jrQToYHQkSlc",
    "outputId": "ed51d9de-3b22-48a4-a058-4c15f0fc2493"
   },
   "outputs": [
    {
     "name": "stdout",
     "output_type": "stream",
     "text": [
      "False\n"
     ]
    }
   ],
   "source": [
    "a = np.array([1,2,3])\n",
    "b = np.array([4,2,6])\n",
    "print((a == b).all())"
   ]
  },
  {
   "cell_type": "code",
   "execution_count": null,
   "metadata": {
    "colab": {
     "base_uri": "https://localhost:8080/"
    },
    "id": "X4a-ZrZ3kZP5",
    "outputId": "3fee6e7b-553a-4a1b-a9ba-1a435b0c6869"
   },
   "outputs": [
    {
     "name": "stdout",
     "output_type": "stream",
     "text": [
      "True\n"
     ]
    }
   ],
   "source": [
    "a = np.array([1,2,3])\n",
    "b = np.array([4,2,6])\n",
    "print((a == b).any())"
   ]
  },
  {
   "cell_type": "code",
   "execution_count": null,
   "metadata": {
    "colab": {
     "base_uri": "https://localhost:8080/"
    },
    "id": "M24dzQuSkgkx",
    "outputId": "64011a1e-e85e-40b7-93e0-da1a6e24c946"
   },
   "outputs": [
    {
     "name": "stdout",
     "output_type": "stream",
     "text": [
      "6\n",
      "1\n",
      "3\n",
      "2.0\n",
      "2.0\n",
      "[1 3 6]\n"
     ]
    }
   ],
   "source": [
    "a = np.array([1,2,3])\n",
    "print(np.sum(a))\n",
    "print(np.min(a))\n",
    "print(np.max(a))\n",
    "print(np.mean(a))\n",
    "print(np.median(a))\n",
    "print(np.cumsum(a))"
   ]
  },
  {
   "cell_type": "code",
   "execution_count": null,
   "metadata": {
    "colab": {
     "base_uri": "https://localhost:8080/"
    },
    "id": "Hzo2Lh69ku_e",
    "outputId": "11daf484-216f-4fe9-9a80-080e97d9d38c"
   },
   "outputs": [
    {
     "data": {
      "text/plain": [
       "3"
      ]
     },
     "execution_count": 28,
     "metadata": {},
     "output_type": "execute_result"
    }
   ],
   "source": [
    "a = np.array([[1,2,3], [4,5,6]])\n",
    "a[0,2] #ligne 0 colonne 2"
   ]
  },
  {
   "cell_type": "code",
   "execution_count": null,
   "metadata": {
    "colab": {
     "base_uri": "https://localhost:8080/"
    },
    "id": "2zB0AgZik1AM",
    "outputId": "902e8ba9-3392-48eb-ffec-62832db8a5aa"
   },
   "outputs": [
    {
     "data": {
      "text/plain": [
       "array([6, 7, 8, 9])"
      ]
     },
     "execution_count": 29,
     "metadata": {},
     "output_type": "execute_result"
    }
   ],
   "source": [
    "a = np.array([[[1,2,3], [4,5,6], [7,8,9]]])\n",
    "a[a>5]"
   ]
  },
  {
   "cell_type": "code",
   "execution_count": 2,
   "metadata": {
    "colab": {
     "base_uri": "https://localhost:8080/"
    },
    "id": "LrYR--jyk_33",
    "outputId": "37c51c4b-c724-4273-c7a3-c7e6338a17a9"
   },
   "outputs": [
    {
     "name": "stdout",
     "output_type": "stream",
     "text": [
      "[1 2 3 4 5 6]\n",
      "[1 2 3]\n"
     ]
    },
    {
     "data": {
      "text/plain": [
       "array([[1, 2],\n",
       "       [3, 4],\n",
       "       [5, 6]])"
      ]
     },
     "execution_count": 2,
     "metadata": {},
     "output_type": "execute_result"
    }
   ],
   "source": [
    "a = np.array([1,2,3])\n",
    "b = np.array([4,5,6])\n",
    "c = np.concatenate((a,b), axis = 0)\n",
    "print(c)\n",
    "print(np.transpose(a))\n",
    "c.reshape(3,2)"
   ]
  },
  {
   "cell_type": "code",
   "execution_count": null,
   "metadata": {
    "colab": {
     "base_uri": "https://localhost:8080/"
    },
    "id": "1QldarDslPwd",
    "outputId": "feb23d92-9f33-4e5b-b7e7-8d090c57cd5f"
   },
   "outputs": [
    {
     "data": {
      "text/plain": [
       "1"
      ]
     },
     "execution_count": 31,
     "metadata": {},
     "output_type": "execute_result"
    }
   ],
   "source": [
    "# Exercice 1\n",
    "T1 = np.arange(0,50,2)\n",
    "T2 = np.cos(T1**2)\n",
    "m = np.max(T2)\n",
    "np.sum(T2 == m)"
   ]
  },
  {
   "cell_type": "code",
   "execution_count": null,
   "metadata": {
    "colab": {
     "base_uri": "https://localhost:8080/"
    },
    "id": "NjvW4rXCli8G",
    "outputId": "4cc2b035-400e-4476-ac51-2c0b529e06fa"
   },
   "outputs": [
    {
     "name": "stdout",
     "output_type": "stream",
     "text": [
      "[1 2 3 4 5 6]\n",
      "[6 5 4 3 2 1]\n"
     ]
    }
   ],
   "source": [
    "# Exercice 2\n",
    "T1 = np.arange(1,7)\n",
    "print(T1)\n",
    "T1 = T1[::-1]\n",
    "print(T1)"
   ]
  },
  {
   "cell_type": "code",
   "execution_count": null,
   "metadata": {
    "colab": {
     "base_uri": "https://localhost:8080/"
    },
    "id": "m0wayN6Ml74P",
    "outputId": "2f54fbb4-8533-4999-aa6f-f3e89c64525b"
   },
   "outputs": [
    {
     "name": "stdout",
     "output_type": "stream",
     "text": [
      "tableau:\n",
      " [[[0.68471036 0.75327373 0.2378001 ]\n",
      "  [0.25677324 0.58494458 0.29240687]\n",
      "  [0.38725819 0.10486922 0.1361004 ]]\n",
      "\n",
      " [[0.48299209 0.09199342 0.48104331]\n",
      "  [0.18331111 0.80375418 0.54499152]\n",
      "  [0.07732149 0.04468401 0.87650459]]\n",
      "\n",
      " [[0.20384515 0.37263156 0.71778031]\n",
      "  [0.35743071 0.24298263 0.31578399]\n",
      "  [0.79753367 0.93289915 0.05455564]]]\n",
      "le premièr élément du tableau:\n",
      " [[[0.68471036 0.75327373 0.2378001 ]\n",
      "  [0.25677324 0.58494458 0.29240687]\n",
      "  [0.38725819 0.10486922 0.1361004 ]]]\n"
     ]
    }
   ],
   "source": [
    "# Exercice 3\n",
    "T1 = np.random.random((3,3,3))\n",
    "print(\"tableau:\\n\",T1)\n",
    "y = T1[:1,:]\n",
    "print(\"le premièr élément du tableau:\\n\",y)"
   ]
  },
  {
   "cell_type": "code",
   "execution_count": null,
   "metadata": {
    "collapsed": true,
    "id": "UcBmhRq-mJn3"
   },
   "outputs": [],
   "source": [
    "# Exercice 4\n",
    "def diagonale(T1): \n",
    "  n,p = T1.shape\n",
    "  if n != p:\n",
    "    return False \n",
    "    for i in range(n):\n",
    "      for j in range(p): \n",
    "        if i != j and T1[i,j] != 0: \n",
    "          return False \n",
    "        return True\n",
    "        T1 = np.array([[18,0,0], [0,20,0], [0,0,0]])\n",
    "        diagonale(T1)"
   ]
  },
  {
   "cell_type": "code",
   "execution_count": null,
   "metadata": {
    "collapsed": true,
    "id": "b4OfNJaImyLc"
   },
   "outputs": [],
   "source": [
    "#  Méthode 2 appel à la fonction diag()\n",
    "def diagonale(T1): \n",
    "  n,p = T1.shape \n",
    "  if n != p: \n",
    "    return False \n",
    "  return(T1 == np.diag(np.diag(T1))).all()\n",
    "  T1 = np.array([[18,0,0], [0,20,0], [0,0,0]])\n",
    "  diagonale(T1)"
   ]
  },
  {
   "cell_type": "code",
   "execution_count": null,
   "metadata": {
    "collapsed": true,
    "id": "11YbeGaznJIH"
   },
   "outputs": [],
   "source": [
    "#  Exercice 5\n",
    "def triangulaire_sup(T1): \n",
    "  n,p = T1.shape \n",
    "  if n != p: \n",
    "    return False \n",
    "    for i in range(n): \n",
    "      for j in range(i): \n",
    "        if T1[i,j] != 0: \n",
    "          return False \n",
    "        return True\n",
    "        T1 = np.array([[18,5,6], [0,20,7], [0,0,5]])\n",
    "        triangulaire_sup(T1)"
   ]
  },
  {
   "cell_type": "code",
   "execution_count": 5,
   "metadata": {
    "collapsed": true,
    "id": "b_BgEGFjpiMp"
   },
   "outputs": [],
   "source": [
    "np.diag?"
   ]
  },
  {
   "cell_type": "code",
   "execution_count": null,
   "metadata": {
    "collapsed": true
   },
   "outputs": [],
   "source": []
  }
 ],
 "metadata": {
  "colab": {
   "collapsed_sections": [],
   "name": "Cours-Numpy-ML.ipynb",
   "provenance": []
  },
  "kernelspec": {
   "display_name": "Python 3",
   "language": "python",
   "name": "python3"
  },
  "language_info": {
   "codemirror_mode": {
    "name": "ipython",
    "version": 3
   },
   "file_extension": ".py",
   "mimetype": "text/x-python",
   "name": "python",
   "nbconvert_exporter": "python",
   "pygments_lexer": "ipython3",
   "version": "3.6.2"
  }
 },
 "nbformat": 4,
 "nbformat_minor": 1
}
