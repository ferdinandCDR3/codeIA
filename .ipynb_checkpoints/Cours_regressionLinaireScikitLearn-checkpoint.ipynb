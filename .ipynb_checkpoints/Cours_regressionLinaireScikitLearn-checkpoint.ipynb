{
 "cells": [
  {
   "cell_type": "code",
   "execution_count": 2,
   "metadata": {},
   "outputs": [
    {
     "name": "stdout",
     "output_type": "stream",
     "text": [
      "100.0\n",
      "[ 9. 11. 13. 15. 17. 19. 21. 23. 25. 27.]\n"
     ]
    }
   ],
   "source": [
    "import numpy as np\n",
    "from sklearn.linear_model import LinearRegression\n",
    "#données\n",
    "x = np.array([1, 2, 3, 4, 5, 6, 7, 8, 9, 10]).reshape((-1, 1))\n",
    "y = np.array([9, 11, 13, 15, 17, 19, 21, 23, 25, 27])\n",
    "#instancier modèle\n",
    "model_linReg = LinearRegression()\n",
    "#entrainement du modèle\n",
    "model_linReg.fit(x, y)\n",
    "#précision du modèle\n",
    "precision = model_linReg.score(x, y)\n",
    "print(precision*100)\n",
    "#prédiction\n",
    "prediction = model_linReg.predict(x)\n",
    "print(prediction)"
   ]
  },
  {
   "cell_type": "code",
   "execution_count": 8,
   "metadata": {},
   "outputs": [
    {
     "data": {
      "text/plain": [
       "2.0344827586206957"
      ]
     },
     "execution_count": 8,
     "metadata": {},
     "output_type": "execute_result"
    }
   ],
   "source": [
    "model_linReg.intercept_"
   ]
  },
  {
   "cell_type": "code",
   "execution_count": 9,
   "metadata": {},
   "outputs": [
    {
     "data": {
      "text/plain": [
       "array([0.9612069])"
      ]
     },
     "execution_count": 9,
     "metadata": {},
     "output_type": "execute_result"
    }
   ],
   "source": [
    "model_linReg.coef_"
   ]
  },
  {
   "cell_type": "code",
   "execution_count": 10,
   "metadata": {},
   "outputs": [
    {
     "name": "stdout",
     "output_type": "stream",
     "text": [
      "[[ 7.80172414]\n",
      " [ 9.72413793]\n",
      " [11.64655172]\n",
      " [15.49137931]\n",
      " [19.3362069 ]]\n"
     ]
    }
   ],
   "source": [
    "prediction = model_linReg.intercept_ + model_linReg.coef_*x\n",
    "print(prediction)"
   ]
  },
  {
   "cell_type": "code",
   "execution_count": 3,
   "metadata": {},
   "outputs": [
    {
     "name": "stdout",
     "output_type": "stream",
     "text": [
      "99.6884934878474\n",
      "[ 3.19175469  5.11853143  7.04530817  8.97208491 10.89886166]\n"
     ]
    }
   ],
   "source": [
    "import numpy as np\n",
    "from sklearn.linear_model import LinearRegression\n",
    "#données\n",
    "x = np.array([[5, 1], [8, 2], [10, 13], [14, 15], [18, 9]])\n",
    "y = np.array([7, 9, 13, 17, 18])\n",
    "#instancier modèle\n",
    "model_linRegMul = LinearRegression()\n",
    "#entrainement du modèle\n",
    "model_linRegMul.fit(x, y)\n",
    "#précision du modèle\n",
    "precision = model_linRegMul.score(x, y)\n",
    "print(precision*100)\n",
    "#prédiction\n",
    "test = np.arange(10).reshape((-1, 2))\n",
    "prediction = model_linRegMul.predict(test)\n",
    "print(prediction)"
   ]
  },
  {
   "cell_type": "code",
   "execution_count": 4,
   "metadata": {},
   "outputs": [
    {
     "data": {
      "text/plain": [
       "2.9444980002051064"
      ]
     },
     "execution_count": 4,
     "metadata": {},
     "output_type": "execute_result"
    }
   ],
   "source": [
    "model_linRegMul.intercept_"
   ]
  },
  {
   "cell_type": "code",
   "execution_count": 13,
   "metadata": {},
   "outputs": [
    {
     "data": {
      "text/plain": [
       "array([0.71613168, 0.24725669])"
      ]
     },
     "execution_count": 13,
     "metadata": {},
     "output_type": "execute_result"
    }
   ],
   "source": [
    "model_linRegMul.coef_"
   ]
  },
  {
   "cell_type": "code",
   "execution_count": 14,
   "metadata": {},
   "outputs": [
    {
     "name": "stdout",
     "output_type": "stream",
     "text": [
      "Boston House Prices dataset\n",
      "===========================\n",
      "\n",
      "Notes\n",
      "------\n",
      "Data Set Characteristics:  \n",
      "\n",
      "    :Number of Instances: 506 \n",
      "\n",
      "    :Number of Attributes: 13 numeric/categorical predictive\n",
      "    \n",
      "    :Median Value (attribute 14) is usually the target\n",
      "\n",
      "    :Attribute Information (in order):\n",
      "        - CRIM     per capita crime rate by town\n",
      "        - ZN       proportion of residential land zoned for lots over 25,000 sq.ft.\n",
      "        - INDUS    proportion of non-retail business acres per town\n",
      "        - CHAS     Charles River dummy variable (= 1 if tract bounds river; 0 otherwise)\n",
      "        - NOX      nitric oxides concentration (parts per 10 million)\n",
      "        - RM       average number of rooms per dwelling\n",
      "        - AGE      proportion of owner-occupied units built prior to 1940\n",
      "        - DIS      weighted distances to five Boston employment centres\n",
      "        - RAD      index of accessibility to radial highways\n",
      "        - TAX      full-value property-tax rate per $10,000\n",
      "        - PTRATIO  pupil-teacher ratio by town\n",
      "        - B        1000(Bk - 0.63)^2 where Bk is the proportion of blacks by town\n",
      "        - LSTAT    % lower status of the population\n",
      "        - MEDV     Median value of owner-occupied homes in $1000's\n",
      "\n",
      "    :Missing Attribute Values: None\n",
      "\n",
      "    :Creator: Harrison, D. and Rubinfeld, D.L.\n",
      "\n",
      "This is a copy of UCI ML housing dataset.\n",
      "http://archive.ics.uci.edu/ml/datasets/Housing\n",
      "\n",
      "\n",
      "This dataset was taken from the StatLib library which is maintained at Carnegie Mellon University.\n",
      "\n",
      "The Boston house-price data of Harrison, D. and Rubinfeld, D.L. 'Hedonic\n",
      "prices and the demand for clean air', J. Environ. Economics & Management,\n",
      "vol.5, 81-102, 1978.   Used in Belsley, Kuh & Welsch, 'Regression diagnostics\n",
      "...', Wiley, 1980.   N.B. Various transformations are used in the table on\n",
      "pages 244-261 of the latter.\n",
      "\n",
      "The Boston house-price data has been used in many machine learning papers that address regression\n",
      "problems.   \n",
      "     \n",
      "**References**\n",
      "\n",
      "   - Belsley, Kuh & Welsch, 'Regression diagnostics: Identifying Influential Data and Sources of Collinearity', Wiley, 1980. 244-261.\n",
      "   - Quinlan,R. (1993). Combining Instance-Based and Model-Based Learning. In Proceedings on the Tenth International Conference of Machine Learning, 236-243, University of Massachusetts, Amherst. Morgan Kaufmann.\n",
      "   - many more! (see http://archive.ics.uci.edu/ml/datasets/Housing)\n",
      "\n"
     ]
    }
   ],
   "source": [
    "from sklearn import datasets\n",
    "données = datasets.load_boston()\n",
    "print(données.DESCR)"
   ]
  },
  {
   "cell_type": "code",
   "execution_count": 15,
   "metadata": {},
   "outputs": [
    {
     "name": "stdout",
     "output_type": "stream",
     "text": [
      "92.69012279220037\n",
      "[0.67453379]\n"
     ]
    }
   ],
   "source": [
    "# Exercice 1\n",
    "import pandas as pd\n",
    "from sklearn.linear_model import LinearRegression\n",
    "#données\n",
    "df = pd.read_csv('iris.csv')\n",
    "df.head()\n",
    "x = df[[\"PetalLengthCm\"]]\n",
    "y = df[\"PetalWidthCm\"]\n",
    "#instancier modèle\n",
    "model_linReg = LinearRegression()\n",
    "#entrainement du modèle\n",
    "model_linReg.fit(x, y)\n",
    "#précision du modèle\n",
    "precision = model_linReg.score(x, y)\n",
    "print(precision*100)\n",
    "#prédiction\n",
    "longueur = 2.5\n",
    "prediction = model_linReg.predict([[longueur]])\n",
    "print(prediction)"
   ]
  },
  {
   "cell_type": "code",
   "execution_count": 18,
   "metadata": {},
   "outputs": [
    {
     "name": "stdout",
     "output_type": "stream",
     "text": [
      "[30.00821269 25.0298606  30.5702317  28.60814055 27.94288232]\n"
     ]
    }
   ],
   "source": [
    "# Exercice 2\n",
    "from sklearn import linear_model\n",
    "from sklearn import datasets\n",
    "import pandas as pd\n",
    "#charger la dataset Boston\n",
    "données = datasets.load_boston()\n",
    "df = pd.DataFrame(données.data, columns = données.feature_names)\n",
    "df.head()\n",
    "# données cible dans un nouveau dataframe\n",
    "cible = pd.DataFrame(données.target, columns = [\"MEDV\"])\n",
    "x = df\n",
    "y = cible[\"MEDV\"]\n",
    "#instancier modèle\n",
    "model_linReg = linear_model.LinearRegression()\n",
    "#training\n",
    "model_linReg.fit(x,y)\n",
    "#prédiction\n",
    "prediction = model_linReg.predict(x)\n",
    "print(prediction[0:5])"
   ]
  },
  {
   "cell_type": "code",
   "execution_count": 19,
   "metadata": {},
   "outputs": [
    {
     "name": "stdout",
     "output_type": "stream",
     "text": [
      "les valeurs de x : [[-0.63432209  0.3024719  -0.36274117]\n",
      " [ 1.78587049  0.01050002  0.12691209]\n",
      " [ 1.71334272 -0.06824161 -0.74475482]\n",
      " [-0.31932842  0.14195316  0.69153875]\n",
      " [ 1.53277921 -0.18718385  1.46935877]]\n",
      "les valeurs de y : [-8.52601181 72.61144649 59.30316246  0.54111782 58.51399448]\n",
      "la prediction:  [-1.77635684e-15]\n"
     ]
    }
   ],
   "source": [
    "# Exercice 3\n",
    "from sklearn.linear_model import LinearRegression\n",
    "from sklearn.datasets import make_regression\n",
    "#generer problème de regression aléatoire\n",
    "x, y = make_regression( n_features = 3, random_state = 0)\n",
    "#afficher les cinq premiers éléments de x et y\n",
    "print('les valeurs de x :', x[0:5])\n",
    "print('les valeurs de y :', y[0:5])\n",
    "#instancier modèle\n",
    "model_linReg = LinearRegression()\n",
    "#entrainement du modèle\n",
    "model_linReg.fit(x, y)\n",
    "#Prédiction\n",
    "prediction = model_linReg.predict( [[0,0,0]])\n",
    "print('la prediction: ', prediction)\n",
    "#précision du modèle\n",
    "precision = model_linReg.score(x, y)"
   ]
  },
  {
   "cell_type": "code",
   "execution_count": 20,
   "metadata": {},
   "outputs": [
    {
     "name": "stdout",
     "output_type": "stream",
     "text": [
      "les valeurs de x : [[ 1.76405235  0.40015721  0.97873798  2.2408932   1.86755799 -0.97727788\n",
      "   0.95008842 -0.15135721 -0.10321885  0.4105985   0.14404357  1.45427351\n",
      "   0.76103773  0.12167502  0.44386323]\n",
      " [ 0.33367433  1.49407907 -0.20515826  0.3130677  -0.85409574 -2.55298982\n",
      "   0.6536186   0.8644362  -0.74216502  2.26975462 -1.45436567  0.04575852\n",
      "  -0.18718385  1.53277921  1.46935877]\n",
      " [ 0.15494743  0.37816252 -0.88778575 -1.98079647 -0.34791215  0.15634897\n",
      "   1.23029068  1.20237985 -0.38732682 -0.30230275 -1.04855297 -1.42001794\n",
      "  -1.70627019  1.9507754  -0.50965218]\n",
      " [-0.4380743  -1.25279536  0.77749036 -1.61389785 -0.21274028 -0.89546656\n",
      "   0.3869025  -0.51080514 -1.18063218 -0.02818223  0.42833187  0.06651722\n",
      "   0.3024719  -0.63432209 -0.36274117]\n",
      " [-0.67246045 -0.35955316 -0.81314628 -1.7262826   0.17742614 -0.40178094\n",
      "  -1.63019835  0.46278226 -0.90729836  0.0519454   0.72909056  0.12898291\n",
      "   1.13940068 -1.23482582  0.40234164]]\n",
      "les valeurs de y : [-1.30652685  1.65813068 -0.11816405 -0.6801782   0.66638308]\n",
      "la prédiction: [-1.20250777  1.56715812 -0.12858058 -0.82598855  0.65449454 -0.7024955\n",
      " -1.21392617 -1.28714326  0.78035899 -0.11102294 -0.05346306  1.03710606\n",
      " -0.85261562 -0.93272062 -0.51178789  0.18936664  0.18783135 -0.49442743\n",
      " -0.02980614 -0.15966141]\n",
      "la précision du modèle:  96.8915558815608\n"
     ]
    }
   ],
   "source": [
    "# Exercice 4\n",
    "import numpy as np\n",
    "from sklearn.linear_model import LinearRegression\n",
    "echantillons = 20\n",
    "caracteristiques = 15\n",
    "np.random.seed(0)\n",
    "x = np.random.randn(echantillons, caracteristiques)\n",
    "y = np.random.randn(echantillons)\n",
    "#afficher les cinq premiers éléments de x et y\n",
    "print('les valeurs de x :', x[0:5])\n",
    "print('les valeurs de y :', y[0:5])\n",
    "#instancier modèle\n",
    "model_linReg = LinearRegression()\n",
    "#entrainement du modèle\n",
    "model_linReg.fit(x, y)\n",
    "#Prédiction\n",
    "prediction = model_linReg.predict(x)\n",
    "print(\"la prédiction:\" ,prediction)\n",
    "#précision du modèle\n",
    "precision = model_linReg.score(x, y)\n",
    "print(\"la précision du modèle: \", precision*100)"
   ]
  },
  {
   "cell_type": "code",
   "execution_count": null,
   "metadata": {
    "collapsed": true
   },
   "outputs": [],
   "source": []
  }
 ],
 "metadata": {
  "kernelspec": {
   "display_name": "Python 3 (ipykernel)",
   "language": "python",
   "name": "python3"
  },
  "language_info": {
   "codemirror_mode": {
    "name": "ipython",
    "version": 3
   },
   "file_extension": ".py",
   "mimetype": "text/x-python",
   "name": "python",
   "nbconvert_exporter": "python",
   "pygments_lexer": "ipython3",
   "version": "3.10.4"
  }
 },
 "nbformat": 4,
 "nbformat_minor": 2
}
