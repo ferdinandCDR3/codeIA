{
 "cells": [
  {
   "cell_type": "code",
   "execution_count": 1,
   "id": "8fe04287",
   "metadata": {},
   "outputs": [],
   "source": [
    "import numpy as np\n",
    "import pandas as pd\n",
    "from keras.models import Sequential\n",
    "from keras.layers import Dense\n",
    "from keras.wrappers.scikit_learn import KerasClassifier\n",
    "from sklearn.model_selection import cross_val_score\n",
    "from sklearn.model_selection import KFold\n",
    "from sklearn.preprocessing import MinMaxScaler\n",
    "import matplotlib.pyplot as plt\n",
    "from sklearn.ensemble import RandomForestClassifier\n",
    "#from keras.utils import np_utils\n",
    "#from sklearn.preprocessing import LabelEncoder"
   ]
  },
  {
   "cell_type": "code",
   "execution_count": 2,
   "id": "5f69b17b",
   "metadata": {},
   "outputs": [
    {
     "name": "stdout",
     "output_type": "stream",
     "text": [
      "             0             1         2             3             4         5   \\\n",
      "0 -3.014600e-07  8.260300e-06 -0.000012 -2.309800e-06 -1.438600e-06 -0.000021   \n",
      "1  2.913200e-06 -5.247700e-06  0.000003 -6.056100e-06  2.778900e-06 -0.000004   \n",
      "2 -2.951700e-06 -3.184000e-06 -0.000016 -1.208400e-06 -1.575300e-06  0.000017   \n",
      "3 -1.322600e-06  8.820100e-06 -0.000016 -4.811100e-06 -7.282900e-07  0.000004   \n",
      "4 -6.836600e-08  5.666300e-07 -0.000026 -6.490100e-06 -7.940600e-07  0.000013   \n",
      "5 -9.584900e-07  5.214300e-08 -0.000047  6.453700e-07 -2.304100e-06  0.000055   \n",
      "6 -1.783700e-06  1.303600e-06 -0.000038 -7.083900e-06  6.706300e-06  0.000022   \n",
      "7 -2.566600e-06 -1.679500e-07  0.000015 -1.598400e-06  8.709200e-07  0.000015   \n",
      "8 -5.474000e-06  1.086500e-07 -0.000011 -1.815600e-06  4.757800e-07  0.000024   \n",
      "9  2.825600e-06  6.067600e-06  0.000118 -4.347500e-06  1.492300e-06 -0.000003   \n",
      "\n",
      "         6         7         8         9   ...       39       40       41  \\\n",
      "0  0.031718  0.031710  0.031721 -0.032963  ... -0.63308   2.9646   8.1198   \n",
      "1  0.030804  0.030810  0.030806 -0.033520  ... -0.59314   7.6252   6.1690   \n",
      "2  0.032877  0.032880  0.032896 -0.029834  ... -0.63252   2.7784   5.3017   \n",
      "3  0.029410  0.029401  0.029417 -0.030156  ... -0.62289   6.5534   6.2606   \n",
      "4  0.030119  0.030119  0.030145 -0.031393  ... -0.63010   4.5155   9.5231   \n",
      "5  0.031154  0.031154  0.031201 -0.032789  ... -0.61124   5.8337  18.6970   \n",
      "6  0.033805  0.033804  0.033841 -0.033345  ... -0.62501  17.6180   9.0823   \n",
      "7  0.031071  0.031071  0.031056 -0.029695  ... -0.63618  12.8380   4.9079   \n",
      "8  0.031309  0.031308  0.031319 -0.031344  ... -0.62465   2.9841   6.6883   \n",
      "9  0.030947  0.030941  0.030823 -0.032171  ... -0.58170   2.0511   8.8939   \n",
      "\n",
      "       42      43      44      45      46      47  48  \n",
      "0 -1.4961 -1.4961 -1.4961 -1.4996 -1.4996 -1.4996   1  \n",
      "1 -1.4967 -1.4967 -1.4967 -1.5005 -1.5005 -1.5005   1  \n",
      "2 -1.4983 -1.4983 -1.4982 -1.4985 -1.4985 -1.4985   1  \n",
      "3 -1.4963 -1.4963 -1.4963 -1.4975 -1.4975 -1.4976   1  \n",
      "4 -1.4958 -1.4958 -1.4958 -1.4959 -1.4959 -1.4959   1  \n",
      "5 -1.4956 -1.4956 -1.4956 -1.4973 -1.4972 -1.4973   1  \n",
      "6 -1.4960 -1.4960 -1.4959 -1.4954 -1.4954 -1.4953   1  \n",
      "7 -1.4990 -1.4990 -1.4990 -1.4968 -1.4968 -1.4968   1  \n",
      "8 -1.4955 -1.4955 -1.4955 -1.4947 -1.4947 -1.4947   1  \n",
      "9 -1.4963 -1.4963 -1.4963 -1.4943 -1.4943 -1.4943   1  \n",
      "\n",
      "[10 rows x 49 columns]\n"
     ]
    }
   ],
   "source": [
    "# Random seed for reproducibility\n",
    "seed = 10\n",
    "np.random.seed(seed)\n",
    "# Import data\n",
    "df = pd.read_csv('Sensorless_drive_diagnosis.txt', sep = ' ', header = None)\n",
    "# Print first 10 samples\n",
    "print(df.head(10))"
   ]
  },
  {
   "cell_type": "code",
   "execution_count": 3,
   "id": "229e03df",
   "metadata": {},
   "outputs": [
    {
     "name": "stdout",
     "output_type": "stream",
     "text": [
      "0     0\n",
      "1     0\n",
      "2     0\n",
      "3     0\n",
      "4     0\n",
      "5     0\n",
      "6     0\n",
      "7     0\n",
      "8     0\n",
      "9     0\n",
      "10    0\n",
      "11    0\n",
      "12    0\n",
      "13    0\n",
      "14    0\n",
      "15    0\n",
      "16    0\n",
      "17    0\n",
      "18    0\n",
      "19    0\n",
      "20    0\n",
      "21    0\n",
      "22    0\n",
      "23    0\n",
      "24    0\n",
      "25    0\n",
      "26    0\n",
      "27    0\n",
      "28    0\n",
      "29    0\n",
      "30    0\n",
      "31    0\n",
      "32    0\n",
      "33    0\n",
      "34    0\n",
      "35    0\n",
      "36    0\n",
      "37    0\n",
      "38    0\n",
      "39    0\n",
      "40    0\n",
      "41    0\n",
      "42    0\n",
      "43    0\n",
      "44    0\n",
      "45    0\n",
      "46    0\n",
      "47    0\n",
      "48    0\n",
      "dtype: int64\n"
     ]
    }
   ],
   "source": [
    "# Check missing values\n",
    "print(df.isna().sum())"
   ]
  },
  {
   "cell_type": "code",
   "execution_count": 4,
   "id": "da9db845",
   "metadata": {},
   "outputs": [
    {
     "name": "stdout",
     "output_type": "stream",
     "text": [
      "(58509, 48)\n",
      "(58509,)\n"
     ]
    }
   ],
   "source": [
    "# Divide data into features X and target (Classes) Y\n",
    "X = df.loc[:,0:47]\n",
    "Y = df.loc[:,48]\n",
    "print(X.shape)\n",
    "print(Y.shape)"
   ]
  },
  {
   "cell_type": "code",
   "execution_count": 5,
   "id": "e22685a1",
   "metadata": {},
   "outputs": [
    {
     "name": "stdout",
     "output_type": "stream",
     "text": [
      "                 0             1             2             3             4   \\\n",
      "count  58509.000000  5.850900e+04  5.850900e+04  58509.000000  5.850900e+04   \n",
      "mean      -0.000003  1.439648e-06  1.412013e-06     -0.000001  1.351239e-06   \n",
      "std        0.000072  5.555429e-05  2.353009e-04      0.000063  5.660943e-05   \n",
      "min       -0.013721 -5.414400e-03 -1.358000e-02     -0.012787 -8.355900e-03   \n",
      "25%       -0.000007 -1.444400e-05 -7.239600e-05     -0.000005 -1.475300e-05   \n",
      "50%       -0.000003  8.804600e-07  5.137700e-07     -0.000001  7.540200e-07   \n",
      "75%        0.000002  1.877700e-05  7.520000e-05      0.000004  1.906200e-05   \n",
      "max        0.005784  4.525300e-03  5.237700e-03      0.001453  8.245100e-04   \n",
      "\n",
      "                 5             6             7             8             9   \\\n",
      "count  5.850900e+04  58509.000000  58509.000000  58509.000000  58509.000000   \n",
      "mean  -2.654483e-07      0.001915      0.001913      0.001912     -0.011897   \n",
      "std    2.261907e-04      0.036468      0.036465      0.036470      0.066482   \n",
      "min   -9.741300e-03     -0.139890     -0.135940     -0.130860     -0.218640   \n",
      "25%   -7.379100e-05     -0.019927     -0.019951     -0.019925     -0.032144   \n",
      "50%   -1.659300e-07      0.013226      0.013230      0.013247     -0.015566   \n",
      "75%    7.138600e-05      0.024770      0.024776      0.024777      0.020614   \n",
      "max    2.753600e-03      0.069125      0.069130      0.069131      0.352580   \n",
      "\n",
      "       ...            38            39            40            41  \\\n",
      "count  ...  58509.000000  58509.000000  58509.000000  58509.000000   \n",
      "mean   ...      8.406765     -0.397757      7.293781      8.273772   \n",
      "std    ...      6.897301     25.018728     12.451781      6.565952   \n",
      "min    ...      0.522180     -0.902350     -0.596830      0.320660   \n",
      "25%    ...      4.451300     -0.715470      1.450300      4.436300   \n",
      "50%    ...      6.566800     -0.661710      3.301300      6.479100   \n",
      "75%    ...      9.952600     -0.573980      8.288500      9.857500   \n",
      "max    ...    265.330000   3670.800000    889.930000    153.150000   \n",
      "\n",
      "                 42            43            44            45            46  \\\n",
      "count  58509.000000  58509.000000  58509.000000  58509.000000  58509.000000   \n",
      "mean      -1.500887     -1.500912     -1.500805     -1.497771     -1.497794   \n",
      "std        0.003657      0.003668      0.003632      0.003163      0.003163   \n",
      "min       -1.525500     -1.526200     -1.523700     -1.521400     -1.523200   \n",
      "25%       -1.503300     -1.503400     -1.503200     -1.499600     -1.499600   \n",
      "50%       -1.500300     -1.500300     -1.500300     -1.498100     -1.498100   \n",
      "75%       -1.498200     -1.498200     -1.498200     -1.496200     -1.496300   \n",
      "max       -1.457600     -1.456100     -1.455500     -1.337200     -1.337200   \n",
      "\n",
      "                 47  \n",
      "count  58509.000000  \n",
      "mean      -1.497686  \n",
      "std        0.003175  \n",
      "min       -1.521300  \n",
      "25%       -1.499500  \n",
      "50%       -1.498000  \n",
      "75%       -1.496200  \n",
      "max       -1.337100  \n",
      "\n",
      "[8 rows x 48 columns]\n"
     ]
    }
   ],
   "source": [
    "# Statistical summary of the variables\n",
    "print(X.describe())"
   ]
  },
  {
   "cell_type": "code",
   "execution_count": 6,
   "id": "a474b188",
   "metadata": {},
   "outputs": [
    {
     "name": "stdout",
     "output_type": "stream",
     "text": [
      "48\n",
      "1     5319\n",
      "2     5319\n",
      "3     5319\n",
      "4     5319\n",
      "5     5319\n",
      "6     5319\n",
      "7     5319\n",
      "8     5319\n",
      "9     5319\n",
      "10    5319\n",
      "11    5319\n",
      "dtype: int64\n"
     ]
    }
   ],
   "source": [
    "# Check for class imbalance\n",
    "print(df.groupby(Y).size())"
   ]
  },
  {
   "cell_type": "code",
   "execution_count": 7,
   "id": "fceb8a2b",
   "metadata": {},
   "outputs": [],
   "source": [
    "# Normalize features within range 0 (minimum) and 1 (maximum)\n",
    "scaler = MinMaxScaler(feature_range=(0, 1))\n",
    "X = scaler.fit_transform(X)\n",
    "X = pd.DataFrame(X)"
   ]
  },
  {
   "cell_type": "code",
   "execution_count": 8,
   "id": "12aa24a2",
   "metadata": {},
   "outputs": [],
   "source": [
    "# Convert target Y to one hot encoded Y for Neural Network\n",
    "Y = pd.get_dummies(Y)\n",
    "# If target is in string form, use following code:\n",
    "# First encode target values as integers from string\n",
    "# Then perform one hot encoding\n",
    "# encoder = LabelEncoder()\n",
    "# encoder.fit(Y)\n",
    "# Y = encoder.transform(Y)\n",
    "# Y = np_utils.to_categorical(Y)"
   ]
  },
  {
   "cell_type": "code",
   "execution_count": 9,
   "id": "0266adf0",
   "metadata": {},
   "outputs": [],
   "source": [
    "# For Keras, convert dataframe to array values (Inbuilt requirement of Keras)\n",
    "X = X.values\n",
    "Y = Y.values"
   ]
  },
  {
   "cell_type": "code",
   "execution_count": 10,
   "id": "f7c17d6a",
   "metadata": {},
   "outputs": [],
   "source": [
    "# First define baseline model. Then use it in Keras Classifier for the training\n",
    "def baseline_model():\n",
    "    # Create model here\n",
    "    model = Sequential()\n",
    "    model.add(Dense(15, input_dim = 48, activation = 'relu')) # Rectified Linear Unit Activation Function\n",
    "    model.add(Dense(15, activation = 'relu'))\n",
    "    model.add(Dense(11, activation = 'softmax')) # Softmax for multi-class classification\n",
    "    # Compile model here\n",
    "    model.compile(loss = 'categorical_crossentropy', optimizer = 'adam', metrics = ['accuracy'])\n",
    "    return model"
   ]
  },
  {
   "cell_type": "code",
   "execution_count": 11,
   "id": "78b3704e",
   "metadata": {},
   "outputs": [
    {
     "name": "stderr",
     "output_type": "stream",
     "text": [
      "C:\\Users\\ferdinand\\AppData\\Local\\Temp\\ipykernel_8816\\3468940036.py:2: DeprecationWarning: KerasClassifier is deprecated, use Sci-Keras (https://github.com/adriangb/scikeras) instead. See https://www.adriangb.com/scikeras/stable/migration.html for help migrating.\n",
      "  estimator = KerasClassifier(build_fn = baseline_model, epochs = 100, batch_size = 10, verbose = 0)\n"
     ]
    }
   ],
   "source": [
    "# Create Keras Classifier and use predefined baseline model\n",
    "estimator = KerasClassifier(build_fn = baseline_model, epochs = 100, batch_size = 10, verbose = 0)\n",
    "# Try different values for epoch and batch size"
   ]
  },
  {
   "cell_type": "code",
   "execution_count": 12,
   "id": "7e46d62f",
   "metadata": {},
   "outputs": [],
   "source": [
    "# KFold Cross Validation\n",
    "kfold = KFold(n_splits = 5, shuffle = True, random_state = seed)\n",
    "# Try different values of splits e.g., 10"
   ]
  },
  {
   "cell_type": "code",
   "execution_count": null,
   "id": "e6a5b146",
   "metadata": {},
   "outputs": [],
   "source": [
    "# Object to describe the result\n",
    "results = cross_val_score(estimator, X, Y, cv = kfold)\n",
    "# Result\n",
    "print(\"Result: %.2f%% (%.2f%%)\" % (results.mean()*100, results.std()*100))"
   ]
  },
  {
   "cell_type": "code",
   "execution_count": null,
   "id": "a4919c69",
   "metadata": {},
   "outputs": [],
   "source": []
  }
 ],
 "metadata": {
  "kernelspec": {
   "display_name": "Python 3 (ipykernel)",
   "language": "python",
   "name": "python3"
  },
  "language_info": {
   "codemirror_mode": {
    "name": "ipython",
    "version": 3
   },
   "file_extension": ".py",
   "mimetype": "text/x-python",
   "name": "python",
   "nbconvert_exporter": "python",
   "pygments_lexer": "ipython3",
   "version": "3.10.4"
  }
 },
 "nbformat": 4,
 "nbformat_minor": 5
}
